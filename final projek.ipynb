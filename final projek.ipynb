{
 "cells": [
  {
   "cell_type": "code",
   "execution_count": 5,
   "id": "36137b63-97c8-413d-ab49-da164ccb4a75",
   "metadata": {},
   "outputs": [],
   "source": [
    "import pandas as pd\n",
    "import matplotlib.pyplot as plt\n",
    "import numpy as np\n",
    "\n",
    "from sklearn.preprocessing import MinMaxScaler"
   ]
  },
  {
   "cell_type": "code",
   "execution_count": 10,
   "id": "3630f1da-d1df-443e-a394-6e7e952e172b",
   "metadata": {},
   "outputs": [
    {
     "name": "stdout",
     "output_type": "stream",
     "text": [
      "Data setelah PCA:\n",
      "[[ 0.5124457 ]\n",
      " [-2.57528445]\n",
      " [ 0.69555387]\n",
      " [-0.1485184 ]\n",
      " [ 1.51580328]]\n"
     ]
    }
   ],
   "source": [
    "import numpy as np\n",
    "from sklearn.decomposition import PCA\n",
    "from sklearn.preprocessing import StandardScaler\n",
    "\n",
    "# Contoh dataset\n",
    "X = np.array([[2.5, 2.4],\n",
    "              [0.5, 0.7],\n",
    "              [2.2, 2.9],\n",
    "              [1.9, 2.2],\n",
    "              [3.1, 3.0]])\n",
    "\n",
    "# Standarisasi data\n",
    "scaler = StandardScaler()\n",
    "X_scaled = scaler.fit_transform(X)\n",
    "\n",
    "# Membuat objek PCA dan mengurangi ke 2 dimensi\n",
    "pca = PCA(n_components=1)\n",
    "X_pca = pca.fit_transform(X_scaled)\n",
    "\n",
    "print(\"Data setelah PCA:\")\n",
    "print(X_pca)"
   ]
  },
  {
   "cell_type": "code",
   "execution_count": 11,
   "id": "6e945a2c-8ca4-42a7-a05e-073c0c56de09",
   "metadata": {},
   "outputs": [
    {
     "name": "stdout",
     "output_type": "stream",
     "text": [
      "   Recency  Frequency  Monetary\n",
      "0     0.00       0.75  0.615385\n",
      "1     0.25       0.25  0.000000\n",
      "2     0.50       0.50  0.230769\n",
      "3     0.75       1.00  1.000000\n",
      "4     1.00       0.00  0.153846\n"
     ]
    }
   ],
   "source": [
    "from sklearn.preprocessing import MinMaxScaler\n",
    "import pandas as pd\n",
    "\n",
    "# Misalnya, Anda memiliki data RFM berikut:\n",
    "data = pd.DataFrame({\n",
    "    'Recency': [10, 20, 30, 40, 50],\n",
    "    'Frequency': [5, 3, 4, 6, 2],\n",
    "    'Monetary': [1000, 200, 500, 1500, 400]\n",
    "})\n",
    "\n",
    "# Inisialisasi MinMaxScaler\n",
    "scaler = MinMaxScaler()\n",
    "\n",
    "# Terapkan normalisasi\n",
    "data_scaled = scaler.fit_transform(data)\n",
    "\n",
    "# Konversi ke DataFrame\n",
    "data_scaled = pd.DataFrame(data_scaled, columns=['Recency', 'Frequency', 'Monetary'])\n",
    "print(data_scaled)\n"
   ]
  },
  {
   "cell_type": "code",
   "execution_count": 12,
   "id": "616129fd-be24-4406-ac42-970e08634e2f",
   "metadata": {},
   "outputs": [
    {
     "ename": "ModuleNotFoundError",
     "evalue": "No module named 'kagglehub'",
     "output_type": "error",
     "traceback": [
      "\u001b[1;31m---------------------------------------------------------------------------\u001b[0m",
      "\u001b[1;31mModuleNotFoundError\u001b[0m                       Traceback (most recent call last)",
      "Cell \u001b[1;32mIn[12], line 1\u001b[0m\n\u001b[1;32m----> 1\u001b[0m \u001b[38;5;28;01mimport\u001b[39;00m \u001b[38;5;21;01mkagglehub\u001b[39;00m\n\u001b[0;32m      3\u001b[0m \u001b[38;5;66;03m# Download latest version\u001b[39;00m\n\u001b[0;32m      4\u001b[0m path \u001b[38;5;241m=\u001b[39m kagglehub\u001b[38;5;241m.\u001b[39mdataset_download(\u001b[38;5;124m\"\u001b[39m\u001b[38;5;124mcarrie1/ecommerce-data\u001b[39m\u001b[38;5;124m\"\u001b[39m)\n",
      "\u001b[1;31mModuleNotFoundError\u001b[0m: No module named 'kagglehub'"
     ]
    }
   ],
   "source": [
    "import kagglehub\n",
    "\n",
    "# Download latest version\n",
    "path = kagglehub.dataset_download(\"carrie1/ecommerce-data\")\n",
    "\n",
    "print(\"Path to dataset files:\", path)"
   ]
  },
  {
   "cell_type": "code",
   "execution_count": null,
   "id": "f4f599b1-6982-445c-8dfd-ec28840a3c1f",
   "metadata": {},
   "outputs": [],
   "source": []
  }
 ],
 "metadata": {
  "kernelspec": {
   "display_name": "Python 3 (ipykernel)",
   "language": "python",
   "name": "python3"
  },
  "language_info": {
   "codemirror_mode": {
    "name": "ipython",
    "version": 3
   },
   "file_extension": ".py",
   "mimetype": "text/x-python",
   "name": "python",
   "nbconvert_exporter": "python",
   "pygments_lexer": "ipython3",
   "version": "3.13.1"
  }
 },
 "nbformat": 4,
 "nbformat_minor": 5
}
